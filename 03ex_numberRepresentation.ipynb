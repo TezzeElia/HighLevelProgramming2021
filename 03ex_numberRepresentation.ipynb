{
 "cells": [
  {
   "cell_type": "markdown",
   "metadata": {},
   "source": [
    "1\\. Write a function that converts numbers among the bin, dec, and hex representations (bin<->dec<->hex)"
   ]
  },
  {
   "cell_type": "code",
   "execution_count": 1,
   "metadata": {},
   "outputs": [
    {
     "name": "stdout",
     "output_type": "stream",
     "text": [
      "0b1010\n",
      "0x22\n",
      "5\n",
      "we don't use this base\n"
     ]
    }
   ],
   "source": [
    "def my_convert(x,bit):\n",
    "    if(bit==2):\n",
    "        return bin(x)\n",
    "    elif(bit==16):\n",
    "        return hex(x)\n",
    "    elif(bit==10):\n",
    "        return int(x)\n",
    "    else: \n",
    "        return \"we don't use this base\"\n",
    "\n",
    "a=0xA;\n",
    "b=34\n",
    "c=0b101\n",
    "print(my_convert(a,2))\n",
    "print(my_convert(b,16))\n",
    "print(my_convert(c,10))\n",
    "print(my_convert(a,7))\n",
    "\n"
   ]
  },
  {
   "cell_type": "markdown",
   "metadata": {},
   "source": [
    "2\\. Write a function that converts a 32 bit word into a single precision floating point (i.e. interprets the various bits as sign, mantissa and exponent) and check its validity."
   ]
  },
  {
   "cell_type": "code",
   "execution_count": 2,
   "metadata": {},
   "outputs": [
    {
     "name": "stdout",
     "output_type": "stream",
     "text": [
      "the mantissa is:  11010000000000000000000\n",
      "-3.625\n"
     ]
    }
   ],
   "source": [
    "def convertToFloat(word):\n",
    "    sign = int(word[0])\n",
    "    exp = int(word[1:9],2)\n",
    "    mantissa = word[9:]\n",
    "    print(\"the mantissa is: \",mantissa)\n",
    "    m=1\n",
    "    for i in range(1,len(mantissa)):\n",
    "        m += int(mantissa[i-1])*pow(2,-i)\n",
    "        \n",
    "    number = pow(-1,sign)*pow(2,(exp-127))*m\n",
    "    return number\n",
    "\n",
    "word = '11000000011010000000000000000000'\n",
    "print(convertToFloat(word))"
   ]
  },
  {
   "cell_type": "markdown",
   "metadata": {},
   "source": [
    "3\\. Write a program to determine the underflow and overflow limits (within a factor of 2) for python on your computer. \n",
    "\n",
    "**Tip**: define two variables initialized to 1 and halve/double them for a sufficient amount of times to exceed the under/over-flow limits  "
   ]
  },
  {
   "cell_type": "code",
   "execution_count": 3,
   "metadata": {},
   "outputs": [
    {
     "name": "stdout",
     "output_type": "stream",
     "text": [
      "the maximun with factor 2 is:  8.98846567431158e+307\n",
      "inf\n",
      "the minimun with factor 2 is:  5e-324\n",
      "0.0\n"
     ]
    }
   ],
   "source": [
    "maximun = 1.0\n",
    "minimun = 1.0\n",
    "i=1\n",
    "for i in range(1,1024):\n",
    "    maximun = maximun*2\n",
    "print(\"the maximun with factor 2 is: \",maximun)  \n",
    "maximun = maximun*2\n",
    "print(maximun)\n",
    "\n",
    "for i in range(1,1075):\n",
    "    minimun = minimun/2\n",
    "print(\"the minimun with factor 2 is: \",minimun)  \n",
    "minimun = minimun/2\n",
    "print(minimun)\n"
   ]
  },
  {
   "cell_type": "markdown",
   "metadata": {},
   "source": [
    "4\\. Write a program to determine the machine precision\n",
    "\n",
    "**Tip**: define a new variable by adding an increasingly smaller value (in the same way as the previous problem) and check when the addition starts to have no effect on the number"
   ]
  },
  {
   "cell_type": "code",
   "execution_count": 4,
   "metadata": {},
   "outputs": [
    {
     "name": "stdout",
     "output_type": "stream",
     "text": [
      "1 1.1\n",
      "2 1.11\n",
      "3 1.111\n",
      "4 1.1111\n",
      "5 1.11111\n",
      "6 1.111111\n",
      "7 1.1111111\n",
      "8 1.11111111\n",
      "9 1.111111111\n",
      "10 1.1111111111\n",
      "11 1.11111111111\n",
      "12 1.1111111111110001\n",
      "13 1.1111111111111\n",
      "14 1.11111111111111\n",
      "15 1.1111111111111112\n",
      "16 1.1111111111111112\n",
      "17 1.1111111111111112\n",
      "18 1.1111111111111112\n",
      "19 1.1111111111111112\n",
      "the machine precision is 10^- 16\n"
     ]
    }
   ],
   "source": [
    "x=1.0\n",
    "res=[]\n",
    "for i in range(1,20):\n",
    "    x+=10**(-i)\n",
    "    res.append(x)\n",
    "    print(i,x)\n",
    "for j in range(1,len(res)):\n",
    "    if(res[j]==res[j-1]):\n",
    "        break\n",
    "print(\"the machine precision is 10^-\",j+1)\n"
   ]
  },
  {
   "cell_type": "markdown",
   "metadata": {},
   "source": [
    "5\\. Write a function that takes in input three parameters $a$, $b$ and $c$ and prints out the two solutions to the quadratic equation $ax^2+bx+c=0$ using the standard formula:\n",
    "$$\n",
    "x=\\frac{-b\\pm\\sqrt{b^2-4ac}}{2a}\n",
    "$$\n",
    "\n",
    "(a) use the program to compute the solution for $a=0.001$, $b=1000$ and $c=0.001$\n",
    "\n",
    "(b) re-express the standard solution formula by multiplying the numerator and the denominator by $-b\\mp\\sqrt{b^2-4ac}$ and again find the solution for $a=0.001$, $b=1000$ and $c=0.001$. How does it compare with what has been previously obtained, and why?\n",
    "\n",
    "(c) write a function that computes the roots of a quadratic equation accurately in all cases"
   ]
  },
  {
   "cell_type": "code",
   "execution_count": 5,
   "metadata": {},
   "outputs": [
    {
     "name": "stdout",
     "output_type": "stream",
     "text": [
      "(-9.999894245993346e-07, -999999.999999) (-9.999894245993346e-07, -999999.9999990001)\n",
      "the difference is:  (0.0, 1.1641532182693481e-10)\n",
      "(-999999.999999, -1.000000000001e-06)\n"
     ]
    }
   ],
   "source": [
    "import math as m\n",
    "def quadratic_solve(a,b,c): #A\n",
    "    x1 = (-b + m.sqrt(b**2 -4*a*c))/(2*a)\n",
    "    x2 = (-b - m.sqrt(b**2 -4*a*c))/(2*a)\n",
    "    return x1,x2\n",
    "\n",
    "def quadratic_solve_2(a,b,c): #B\n",
    "    x1 = ((-b + m.sqrt(b**2 -4*a*c))*(-b - m.sqrt(b**2 -4*a*c)))/(2*a*(-b - m.sqrt(b**2 -4*a*c)))\n",
    "    x2 = ((-b - m.sqrt(b**2 -4*a*c))*(-b + m.sqrt(b**2 -4*a*c)))/(2*a*(-b + m.sqrt(b**2 -4*a*c)))\n",
    "    return x1,x2\n",
    "\n",
    "def q_solve(a,b,c): #C\n",
    "    delta = b**2-4*a*c\n",
    "    if delta < 0:\n",
    "        print(\"no real solution\")\n",
    "    else:\n",
    "        x1 = (-b - m.sqrt(delta))/(2*a)\n",
    "        x2 = (2*c)/(-b - m.sqrt(delta))\n",
    "    return x1,x2\n",
    "a=0.001\n",
    "b=1000\n",
    "c=0.001\n",
    "\n",
    "result1 = quadratic_solve(a,b,c)\n",
    "result2 = quadratic_solve_2(a,b,c)\n",
    "print(result1,result2)\n",
    "e = (result1[0]-result2[0],result1[1]-result2[1])\n",
    "print(\"the difference is: \",e)\n",
    "print(q_solve(a,b,c)) #this is the correct way because we use always the sign '-' when we go to use small number\n"
   ]
  },
  {
   "cell_type": "markdown",
   "metadata": {},
   "source": [
    "6\\. Write a program that implements the function $f(x)=x(x−1)$\n",
    "\n",
    "(a) Calculate the derivative of the function at the point $x = 1$ using the derivative definition:\n",
    "\n",
    "$$\n",
    "\\frac{{\\rm d}f}{{\\rm d}x} = \\lim_{\\delta\\to0} \\frac{f(x+\\delta)-f(x)}{\\delta}\n",
    "$$\n",
    "\n",
    "with $\\delta = 10^{−2}$. Calculate the true value of the same derivative analytically and compare it with the answer your program gives. The two will not agree perfectly. Why?\n",
    "\n",
    "(b) Repeat the calculation for $\\delta = 10^{−4}, 10^{−6}, 10^{−8}, 10^{−10}, 10^{−12}$ and $10^{−14}$. How does the accuracy scales with $\\delta$?"
   ]
  },
  {
   "cell_type": "code",
   "execution_count": 6,
   "metadata": {},
   "outputs": [
    {
     "name": "stdout",
     "output_type": "stream",
     "text": [
      "1.010000000000001\n",
      "1.0000999999998899\n",
      "1.0000009999177333\n",
      "1.0000000039225287\n",
      "1.000000082840371\n",
      "1.0000889005833413\n",
      "0.9992007221626509\n",
      "we can notice as the accuracy increase untill 10^-8 and after that decrease\n"
     ]
    }
   ],
   "source": [
    "def f(x):\n",
    "    return x*(x-1)\n",
    "\n",
    "def compute_derivate(x,delta):\n",
    "    return ((f(x+delta)-f(x))/delta)\n",
    "\n",
    "print(compute_derivate(1,10**-2))\n",
    "print(compute_derivate(1,10**-4))\n",
    "print(compute_derivate(1,10**-6))\n",
    "print(compute_derivate(1,10**-8))\n",
    "print(compute_derivate(1,10**-10))\n",
    "print(compute_derivate(1,10**-12))\n",
    "print(compute_derivate(1,10**-14))\n",
    "print(\"we can notice as the accuracy increase untill 10^-8 and after that decrease\")"
   ]
  },
  {
   "cell_type": "markdown",
   "metadata": {},
   "source": [
    "7\\. Consider the integral of the semicircle of radius 1:\n",
    "$$\n",
    "I=\\int_{-1}^{1} \\sqrt(1-x^2) {\\rm d}x\n",
    "$$\n",
    "which is known to be $I=\\frac{\\pi}{2}=1.57079632679...$.\n",
    "\n",
    "Alternatively we can use the Riemann definition of the integral:\n",
    "$$\n",
    "I=\\lim_{N\\to\\infty} \\sum_{k=1}^{N} h y_k \n",
    "$$\n",
    "\n",
    "with $h=2/N$ the width of each of the $N$ slices the domain is divided into and where\n",
    "$y_k$ is the value of the function at the $k-$th slice.\n",
    "\n",
    "(a) Write a program to compute the integral with $N=100$. How does the result compare to the true value?\n",
    "\n",
    "(b) How much can $N$ be increased if the computation needs to be run in less than a second? What is the gain in running it for 1 minute? \n"
   ]
  },
  {
   "cell_type": "code",
   "execution_count": 7,
   "metadata": {},
   "outputs": [
    {
     "name": "stdout",
     "output_type": "stream",
     "text": [
      "1.5602085158895234\n",
      "error: 0.010587810900476669\n"
     ]
    }
   ],
   "source": [
    "import time\n",
    "\n",
    "def riemann_integral(N): \n",
    "    s=0\n",
    "    for i in range(1,N+1):\n",
    "        s+=(2/N)*m.sqrt(1-(i/N)**2)\n",
    "    return s\n",
    "\n",
    "integer = riemann_integral(100)\n",
    "print(integer)\n",
    "print(\"error:\",1.57079632679-integer)"
   ]
  },
  {
   "cell_type": "code",
   "execution_count": 8,
   "metadata": {},
   "outputs": [
    {
     "name": "stdout",
     "output_type": "stream",
     "text": [
      "time needed:  61.92934203147888\n",
      "error: 5.230424315882942e-09\n"
     ]
    }
   ],
   "source": [
    "k=3300500 #after some attemps this value needs 1 second of computation\n",
    "k=190999999 #after some attemps this value needs 1 minute of computation\n",
    "start = time.time()\n",
    "integer1 = riemann_integral(k)\n",
    "print(\"time needed: \",time.time()-start)\n",
    "print(\"error:\",1.57079632679-integer1)"
   ]
  },
  {
   "cell_type": "code",
   "execution_count": 9,
   "metadata": {},
   "outputs": [
    {
     "name": "stdout",
     "output_type": "stream",
     "text": [
      "the gain is: 0.67861 %\n"
     ]
    }
   ],
   "source": [
    "gain = ((integer1-integer)/integer)*100\n",
    "print(\"the gain is: %.5f\"%gain,\"%\")"
   ]
  },
  {
   "cell_type": "code",
   "execution_count": null,
   "metadata": {},
   "outputs": [],
   "source": []
  }
 ],
 "metadata": {
  "kernelspec": {
   "display_name": "Python 3",
   "language": "python",
   "name": "python3"
  },
  "language_info": {
   "codemirror_mode": {
    "name": "ipython",
    "version": 3
   },
   "file_extension": ".py",
   "mimetype": "text/x-python",
   "name": "python",
   "nbconvert_exporter": "python",
   "pygments_lexer": "ipython3",
   "version": "3.8.8"
  }
 },
 "nbformat": 4,
 "nbformat_minor": 2
}
