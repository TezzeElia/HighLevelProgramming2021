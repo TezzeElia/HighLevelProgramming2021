{
 "cells": [
  {
   "cell_type": "markdown",
   "metadata": {},
   "source": [
    "1. The HelloWorld replacement\n",
    "\n",
    "a) Write a program that prints the numbers from 1 to 100. But for multiples of three print \"Hello\" instead of the number and for the multiples of five print \"World\". For numbers which are multiples of both three and five print \"HelloWorld\".\n",
    "\n",
    "b) Put the result in a tuple and substitute \"Hello\" with \"Python\" and \"World\" with \"Works\"."
   ]
  },
  {
   "cell_type": "code",
   "execution_count": 2,
   "metadata": {},
   "outputs": [
    {
     "name": "stdout",
     "output_type": "stream",
     "text": [
      "['1', '2', 'Hello', '4', 'World', 'Hello', '7', '8', 'Hello', 'World', '11', 'Hello', '13', '14', 'HelloWorld', '16', '17', 'Hello', '19', 'World', 'Hello', '22', '23', 'Hello', 'World', '26', 'Hello', '28', '29', 'HelloWorld', '31', '32', 'Hello', '34', 'World', 'Hello', '37', '38', 'Hello', 'World', '41', 'Hello', '43', '44', 'HelloWorld', '46', '47', 'Hello', '49', 'World', 'Hello', '52', '53', 'Hello', 'World', '56', 'Hello', '58', '59', 'HelloWorld', '61', '62', 'Hello', '64', 'World', 'Hello', '67', '68', 'Hello', 'World', '71', 'Hello', '73', '74', 'HelloWorld', '76', '77', 'Hello', '79', 'World', 'Hello', '82', '83', 'Hello', 'World', '86', 'Hello', '88', '89', 'HelloWorld', '91', '92', 'Hello', '94', 'World', 'Hello', '97', '98', 'Hello', 'World']\n",
      "('1', '2', 'Phyton', '4', 'Works', 'Phyton', '7', '8', 'Phyton', 'Works', '11', 'Phyton', '13', '14', 'PhytonWorks', '16', '17', 'Phyton', '19', 'Works', 'Phyton', '22', '23', 'Phyton', 'Works', '26', 'Phyton', '28', '29', 'PhytonWorks', '31', '32', 'Phyton', '34', 'Works', 'Phyton', '37', '38', 'Phyton', 'Works', '41', 'Phyton', '43', '44', 'PhytonWorks', '46', '47', 'Phyton', '49', 'Works', 'Phyton', '52', '53', 'Phyton', 'Works', '56', 'Phyton', '58', '59', 'PhytonWorks', '61', '62', 'Phyton', '64', 'Works', 'Phyton', '67', '68', 'Phyton', 'Works', '71', 'Phyton', '73', '74', 'PhytonWorks', '76', '77', 'Phyton', '79', 'Works', 'Phyton', '82', '83', 'Phyton', 'Works', '86', 'Phyton', '88', '89', 'PhytonWorks', '91', '92', 'Phyton', '94', 'Works', 'Phyton', '97', '98', 'Phyton', 'Works')\n"
     ]
    }
   ],
   "source": [
    "a=[]\n",
    "for i in range (1,101):\n",
    "    if i%15==0:\n",
    "        a.append(\"HelloWorld\")\n",
    "    elif i%3==0:\n",
    "        a.append(\"Hello\")\n",
    "    elif i%5==0:\n",
    "        a.append(\"World\")\n",
    "    else:\n",
    "        a.append(str(i))\n",
    "print(a)\n",
    "for i in range(0,len(a)):\n",
    "    a[i]=a[i].replace(\"Hello\",\"Phyton\")\n",
    "    a[i]=a[i].replace(\"World\",\"Works\")\n",
    "b=tuple(a)   \n",
    "print(b)  \n"
   ]
  },
  {
   "cell_type": "markdown",
   "metadata": {},
   "source": [
    "2\\. The swap function\n",
    "\n",
    "Write a function that swap the values of two input variables x and y (whatever the type). Try to do that also without a temporary variable"
   ]
  },
  {
   "cell_type": "code",
   "execution_count": 3,
   "metadata": {},
   "outputs": [
    {
     "name": "stdout",
     "output_type": "stream",
     "text": [
      "('s', 3)\n",
      "s 3\n"
     ]
    }
   ],
   "source": [
    "def my_swap(a,b):\n",
    "    temp=a\n",
    "    a=b\n",
    "    b=temp\n",
    "    return a,b\n",
    "\n",
    "x=3\n",
    "y='s'\n",
    "print(my_swap(x,y))\n",
    "x,y = y,x\n",
    "print(x,y)  "
   ]
  },
  {
   "cell_type": "markdown",
   "metadata": {},
   "source": [
    "3\\. Computing the distance\n",
    "\n",
    "Write a function that calculates and returns the euclidean distance between two points *u* and *v*, where *u* and *v* are both 2-tuples *(x,y)*. For example, if *u=(3,0)* and *v=(0,4)*, the function should return 5"
   ]
  },
  {
   "cell_type": "code",
   "execution_count": 8,
   "metadata": {},
   "outputs": [
    {
     "name": "stdout",
     "output_type": "stream",
     "text": [
      "5.0\n"
     ]
    }
   ],
   "source": [
    "def my_distance(u,v):\n",
    "    return ((u[0]-v[0])**2 + (u[1]-v[1])**2)**0.5 \n",
    "a=(3,0)\n",
    "b=(0,4)\n",
    "print(my_distance(a,b))\n"
   ]
  },
  {
   "cell_type": "markdown",
   "metadata": {},
   "source": [
    "4\\. Counting letters\n",
    "\n",
    "Write a program to calculate the number of times each character occurs in a given string *s*. Ignore differences in capitalization"
   ]
  },
  {
   "cell_type": "code",
   "execution_count": 9,
   "metadata": {},
   "outputs": [
    {
     "name": "stdout",
     "output_type": "stream",
     "text": [
      "WRITE A PROGRAM THAT PRINTS THE NUMBERS FROM 1 TO 100. BUT FOR MULTIPLES OF THREE PRINT HELLO INSTEAD OF THE NUMBER AND FOR THE MULTIPLES OF FIVE PRINT WORLD. FOR NUMBERS WHICH ARE MULTIPLES OF BOTH THREE AND FIVE PRINT HELLOWORLD.\n",
      "which character do you want to count? n\n",
      "10\n"
     ]
    }
   ],
   "source": [
    "s = \"Write a program that prints the numbers from 1 to 100. \\\n",
    "But for multiples of three print Hello instead of the number and for the multiples of five print World. \\\n",
    "For numbers which are multiples of both three and five print HelloWorld.\"\n",
    "s=s.upper()\n",
    "print(s)\n",
    "x = input(\"which character do you want to count? \")\n",
    "print(s.count(x.upper()))"
   ]
  },
  {
   "cell_type": "markdown",
   "metadata": {},
   "source": [
    "5\\. Isolating the unique\n",
    "\n",
    "Write a function that determines and count the unique numbers in the list:"
   ]
  },
  {
   "cell_type": "code",
   "execution_count": 10,
   "metadata": {},
   "outputs": [
    {
     "name": "stdout",
     "output_type": "stream",
     "text": [
      "[1, 3, 5, 8, 9, 10, 16, 18, 19, 20, 24, 30, 31, 33, 34, 36, 37, 39, 41, 42, 45, 47, 50, 51, 53, 54, 55, 56, 57, 58, 63, 64, 66, 70, 72, 74, 75, 79, 81, 82, 84, 85, 86, 87, 88, 89, 90, 91, 92, 94, 95, 96, 98, 99]\n",
      "the unique number are:  54\n"
     ]
    }
   ],
   "source": [
    "l = [36, 45, 58, 3, 74, 96, 64, 45, 31, 10, 24, 19, 33, 86, 99, 18, 63, 70, 85,\n",
    " 85, 63, 47, 56, 42, 70, 84, 88, 55, 20, 54, 8, 56, 51, 79, 81, 57, 37, 91,\n",
    " 1, 84, 84, 36, 66, 9, 89, 50, 42, 91, 50, 95, 90, 98, 39, 16, 82, 31, 92, 41,\n",
    " 45, 30, 66, 70, 34, 85, 94, 5, 3, 36, 72, 91, 84, 34, 87, 75, 53, 51, 20, 89, 51, 20]\n",
    "l.sort()\n",
    "unique = [l[0]]\n",
    "for i in range (1,len(l)):\n",
    "    if (l[i]!=l[i-1]):\n",
    "        unique.append(l[i])\n",
    "print(unique)\n",
    "print(\"the unique number are: \",len(unique))"
   ]
  },
  {
   "cell_type": "markdown",
   "metadata": {},
   "source": [
    "Do the same without using user-defined functions, but exploiting only the Python data structures."
   ]
  },
  {
   "cell_type": "code",
   "execution_count": 11,
   "metadata": {},
   "outputs": [
    {
     "name": "stdout",
     "output_type": "stream",
     "text": [
      "{1, 3, 5, 8, 9, 10, 16, 18, 19, 20, 24, 30, 31, 33, 34, 36, 37, 39, 41, 42, 45, 47, 50, 51, 53, 54, 55, 56, 57, 58, 63, 64, 66, 70, 72, 74, 75, 79, 81, 82, 84, 85, 86, 87, 88, 89, 90, 91, 92, 94, 95, 96, 98, 99}\n",
      "the unique number are:  54\n"
     ]
    }
   ],
   "source": [
    "unique2 = set(l)\n",
    "print(unique2)\n",
    "print(\"the unique number are: \",len(unique2))"
   ]
  },
  {
   "cell_type": "markdown",
   "metadata": {},
   "source": [
    "6\\. Combination of functions\n",
    "\n",
    "Write two functions - one that returns the square of a number, and one that returns the cube. Now write a third function that returns the number raised to the 6th power using the two previous functions."
   ]
  },
  {
   "cell_type": "code",
   "execution_count": 12,
   "metadata": {},
   "outputs": [
    {
     "name": "stdout",
     "output_type": "stream",
     "text": [
      "4\n",
      "8\n",
      "729\n"
     ]
    }
   ],
   "source": [
    "def square(a):\n",
    "    return a**2\n",
    "def cube(a):\n",
    "    return a**3\n",
    "def power6(a):\n",
    "    return square(cube(a))\n",
    "\n",
    "print(square(2))\n",
    "print(cube(2))\n",
    "print(power6(3))"
   ]
  },
  {
   "cell_type": "markdown",
   "metadata": {},
   "source": [
    "7\\. Cubes\n",
    "\n",
    "Create a list of the cubes of x for x in *[0, 10]* using:\n",
    "\n",
    "a) a for loop\n",
    "\n",
    "b) a list comprehension"
   ]
  },
  {
   "cell_type": "code",
   "execution_count": 13,
   "metadata": {},
   "outputs": [
    {
     "name": "stdout",
     "output_type": "stream",
     "text": [
      "[0, 1, 8, 27, 64, 125, 216, 343, 512, 729, 1000]\n"
     ]
    }
   ],
   "source": [
    "cube=[0, 1, 2, 3, 4, 5, 6, 7, 8, 9, 10]\n",
    "for i in cube:\n",
    "    cube[i]=cube[i]**3\n",
    "print(cube)"
   ]
  },
  {
   "cell_type": "code",
   "execution_count": 14,
   "metadata": {},
   "outputs": [
    {
     "name": "stdout",
     "output_type": "stream",
     "text": [
      "[0, 1, 8, 27, 64, 125, 216, 343, 512, 729, 1000]\n"
     ]
    }
   ],
   "source": [
    "cube2=[i**3 for i in range(0,11)]\n",
    "print(cube2)"
   ]
  },
  {
   "cell_type": "markdown",
   "metadata": {},
   "source": [
    "8\\. Nested list comprehension\n",
    "\n",
    "A Pythagorean triple is an integer solution to the Pythagorean theorem $a^2+b^2=c^2$. The first Pythagorean triple is (3,4,5). Find and put in a tuple all unique Pythagorean triples for the positive integers a, b and c less than 100."
   ]
  },
  {
   "cell_type": "code",
   "execution_count": 15,
   "metadata": {},
   "outputs": [
    {
     "name": "stdout",
     "output_type": "stream",
     "text": [
      "[[3, 4, 5], [5, 12, 13], [6, 8, 10], [7, 24, 25], [8, 15, 17], [9, 12, 15], [9, 40, 41], [10, 24, 26], [11, 60, 61], [12, 16, 20], [12, 35, 37], [13, 84, 85], [14, 48, 50], [15, 20, 25], [15, 36, 39], [16, 30, 34], [16, 63, 65], [18, 24, 30], [18, 80, 82], [20, 21, 29], [20, 48, 52], [21, 28, 35], [21, 72, 75], [24, 32, 40], [24, 45, 51], [24, 70, 74], [25, 60, 65], [27, 36, 45], [28, 45, 53], [30, 40, 50], [30, 72, 78], [32, 60, 68], [33, 44, 55], [33, 56, 65], [35, 84, 91], [36, 48, 60], [36, 77, 85], [39, 52, 65], [39, 80, 89], [40, 42, 58], [40, 75, 85], [42, 56, 70], [45, 60, 75], [48, 55, 73], [48, 64, 80], [51, 68, 85], [54, 72, 90], [57, 76, 95], [60, 63, 87], [65, 72, 97]]\n"
     ]
    }
   ],
   "source": [
    "pythagorean_triple = [[x,y,z] for x in range(1,100) for y in range(1,100) for z in range(1,100)\n",
    "                      if x**2 + y**2 == z**2 and z>y>x]\n",
    "print(pythagorean_triple)"
   ]
  },
  {
   "cell_type": "markdown",
   "metadata": {},
   "source": [
    "9\\. Normalization\n",
    "\n",
    "Write a function that takes a tuple of numbers and returns it with the entries normalized to one"
   ]
  },
  {
   "cell_type": "code",
   "execution_count": 16,
   "metadata": {},
   "outputs": [
    {
     "name": "stdout",
     "output_type": "stream",
     "text": [
      "(0.15, 0.15, 0.3, 0.4)\n"
     ]
    }
   ],
   "source": [
    "def my_normalization(t):\n",
    "    return tuple(i/sum(t) for i in t)\n",
    "tupla=(3,3,6,8)\n",
    "print(my_normalization(tupla))"
   ]
  },
  {
   "cell_type": "code",
   "execution_count": null,
   "metadata": {},
   "outputs": [],
   "source": []
  }
 ],
 "metadata": {
  "kernelspec": {
   "display_name": "Python 3 (ipykernel)",
   "language": "python",
   "name": "python3"
  },
  "language_info": {
   "codemirror_mode": {
    "name": "ipython",
    "version": 3
   },
   "file_extension": ".py",
   "mimetype": "text/x-python",
   "name": "python",
   "nbconvert_exporter": "python",
   "pygments_lexer": "ipython3",
   "version": "3.9.7"
  }
 },
 "nbformat": 4,
 "nbformat_minor": 2
}
