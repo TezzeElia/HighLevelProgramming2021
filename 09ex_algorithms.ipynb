{
 "cells": [
  {
   "cell_type": "markdown",
   "metadata": {},
   "source": [
    "1\\. **Hurricanes per Year**\n",
    "\n",
    "The number of hurricanes in 2005 was 15. The historic average is 6.3. Is this number signficantly different?\n",
    "- Assume the number of hurricanes is random, i.e. follows the Poisson distribution.\n",
    "- Assume as statistically significant a probability that has a Z score of 3 or larger with respect a normal distribution.\n",
    "\n",
    "**Hint**: compute the probability that in a single year are observed 15 or more hurricances."
   ]
  },
  {
   "cell_type": "code",
   "execution_count": null,
   "metadata": {},
   "outputs": [],
   "source": [
    "import numpy as np\n",
    "import matplotlib.pyplot as plt\n",
    "from scipy import stats\n",
    "import math as math\n",
    "from matplotlib.colors import LogNorm\n",
    "from scipy import fftpack\n",
    "from scipy import optimize"
   ]
  },
  {
   "cell_type": "code",
   "execution_count": null,
   "metadata": {},
   "outputs": [],
   "source": [
    "def poisson_prob(n):\n",
    "    return ((historic_avarage**n/math.factorial(n))*(math.e**-historic_avarage))\n",
    "\n",
    "hurricanes = 15\n",
    "historic_avarage = 6.3\n",
    "x = np.linspace(0,30,100)\n",
    "y = stats.norm.pdf(x,historic_avarage,historic_avarage)\n",
    "plt.plot(x,y)\n",
    "plt.axvline(hurricanes, linestyle='--', color='red',label=\"hurricanes\")\n",
    "plt.axvline(historic_avarage, linestyle='--', color='lightblue',label=\"avarage\")\n",
    "plt.fill_between(x,0,y,where=x>hurricanes,color='lightblue',label=\"P[n>15]\")\n",
    "plt.legend()\n",
    "p14=0\n",
    "i=hurricanes-1\n",
    "while i > 0:\n",
    "    p14=p14+poisson_prob(i)\n",
    "    i-=1\n",
    "total_prob = 1-p14\n",
    "print(total_prob)"
   ]
  },
  {
   "cell_type": "markdown",
   "metadata": {},
   "source": [
    "2\\. **Pairwise t-test**\n",
    "\n",
    "In an experiment, a group of 10 individuals agreed to participate in a study of blood pressure changes following exposure to halogen lighting. Resting systolic blood pressure was recorded for each individual. The participants were then exposed to 20 minutes in a room lit only by halogen lamps. A post-exposure systolic blood pressure reading was recorded for each individual. The results are presented in the following data set:\n",
    "\n",
    "```python\n",
    "pre = np.array([120, 132, 120, 110, 115, 128, 120, 112, 110, 100])\n",
    "post = np.array([140, 156, 145, 130, 117, 148, 137, 119, 127, 135])\n",
    "```\n",
    "\n",
    "Determine whether the change in blood pressures within our sample was statistically significant.\n",
    "\n",
    "**Hint:**\n",
    "in this case, the Student's $t$-test should be performed to compare the two datasets.\n",
    "Use the following test statistics:\n",
    "\n",
    "$$T = \\frac{\\bar{x}_1 - \\bar{x}_2}{\\sigma \\sqrt{\\frac{2}{n}}}$$\n",
    "\n",
    "and \n",
    "\n",
    "$$\\sigma = \\sqrt{\\frac{\\sigma_1^2 + \\sigma_2^2}{2}}$$"
   ]
  },
  {
   "cell_type": "code",
   "execution_count": null,
   "metadata": {},
   "outputs": [],
   "source": [
    "def numeratore(vector):\n",
    "    somma=0\n",
    "    mean_vector = np.mean(vector)\n",
    "    for i in vector:\n",
    "        somma += (i-mean_vector)**2\n",
    "    return somma \n",
    "\n",
    "pre = np.array([120, 132, 120, 110, 115, 128, 120, 112, 110, 100])\n",
    "post = np.array([140, 156, 145, 130, 117, 148, 137, 119, 127, 135])\n",
    "sigma2_pre = np.var(pre, ddof=1)\n",
    "sigma2_post = np.var(post, ddof=1)\n",
    "pre_mean = np.mean(pre)\n",
    "post_mean = np.mean(post)\n",
    "sigma = np.sqrt((sigma2_post+sigma2_pre)/2)\n",
    "T = (post_mean-pre_mean)/(sigma*np.sqrt(2/len(pre)))\n",
    "print(\"T =\", T)\n",
    "\n",
    "xs = np.linspace(-5, +5, 100)\n",
    "ts = stats.t.pdf(xs, len(pre) - 1)\n",
    "plt.plot(xs, ts)\n",
    "plt.fill_between(xs, ts, where=np.abs(xs) > np.abs(T), color='lightblue')\n",
    "plt.axvline(T, linestyle='--', color='blue')\n",
    "plt.axvline(-T, linestyle='--', color='blue')\n",
    "plt.show()"
   ]
  },
  {
   "cell_type": "markdown",
   "metadata": {},
   "source": [
    "3\\. **FFT of a simple dataset**\n",
    "\n",
    "Perform a periodicity analysis on the lynxs-hares population, i.e. determine what is the period of the population of these animals."
   ]
  },
  {
   "cell_type": "code",
   "execution_count": null,
   "metadata": {},
   "outputs": [],
   "source": [
    "def f(x, A, nu,offset,pi):\n",
    "    return (A * np.cos(nu * x+pi))+offset\n",
    "\n",
    "data = np.loadtxt(\"data/populations.txt\")\n",
    "year, hares, lynxes, carrots = data.T\n",
    "plt.plot(year, hares)\n",
    "popt1, pcov1 = optimize.curve_fit(f, year, hares, p0=[30000,0.6,45000,14], full_output=False)\n",
    "plt.plot(year, f(year, *popt1), label='fit hares',color='r')\n",
    "plt.legend()\n",
    "print(*popt1)\n",
    "print(\"the period is: \",round((2*math.pi)/popt1[1],3))\n",
    "plt.show()\n",
    "\n",
    "plt.plot(year, lynxes)\n",
    "popt2, pcov2 = optimize.curve_fit(f, year, lynxes, p0=[35000,0.61,25000,1], full_output=False)\n",
    "plt.plot(year, f(year, *popt2), label='fit lynxes',color='r')\n",
    "print(*popt2)\n",
    "print(\"the period is: \",round((2*math.pi)/popt2[1],3))\n",
    "plt.legend()\n",
    "plt.show()"
   ]
  },
  {
   "cell_type": "markdown",
   "metadata": {},
   "source": [
    "4\\. **FFT of an image**\n",
    "\n",
    "Write a filter that removes the periodic noise from the `moonlanding.png` image by using a 2-dimensional FFT.\n",
    "\n",
    "* Import the image as a 2D numpy array using `plt.imread(\"moonlanding.png\")`. Examine the image with `plt.imshow()`, which is heavily contaminated with periodic noise.\n",
    "* Check the documentation of the `scipy.fftpack` package, and find the method that performs a 2D FFT. Plot the spectrum (Fourier transform of) the image. **Hint**: use `LogNorm` to plot the colors in log scale:\n",
    "```Python\n",
    "from matplotlib.colors import LogNorm\n",
    "plt.imshow(image, norm=LogNorm(vmin=5))\n",
    "```\n",
    "* Inspect the spectrum, and try to locate the regions of the power spectrum that contain the signal and those which contain the periodic noise. Use array slicing to set the noise regions to zero.\n",
    "* Apply the inverse Fourier transform to plot the resulting image."
   ]
  },
  {
   "cell_type": "code",
   "execution_count": null,
   "metadata": {},
   "outputs": [],
   "source": [
    "image = plt.imread('data/E09/moonlanding.png')\n",
    "plt.imshow(image)\n",
    "plt.title('Original image')\n",
    "plt.show()\n",
    "fft_image = fftpack.fft2(image)\n",
    "plt.imshow(np.abs(fft_image), norm=LogNorm(vmin=5))\n",
    "plt.title('Fourier transform')\n",
    "plt.colorbar()\n",
    "plt.show()\n",
    "tresh = 1500; #the noisy region are in the high frequency point\n",
    "mask = fft_image.copy()\n",
    "mask = np.where(np.abs(mask) > tresh, 0, mask)\n",
    "final = fftpack.ifft2(mask).real\n",
    "plt.imshow(final)\n",
    "plt.title('Filter image')\n",
    "plt.show()"
   ]
  }
 ],
 "metadata": {
  "kernelspec": {
   "display_name": "Python 3",
   "language": "python",
   "name": "python3"
  },
  "language_info": {
   "codemirror_mode": {
    "name": "ipython",
    "version": 3
   },
   "file_extension": ".py",
   "mimetype": "text/x-python",
   "name": "python",
   "nbconvert_exporter": "python",
   "pygments_lexer": "ipython3",
   "version": "3.8.8"
  }
 },
 "nbformat": 4,
 "nbformat_minor": 2
}
